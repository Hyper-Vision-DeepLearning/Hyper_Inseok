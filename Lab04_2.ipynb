{
  "cells": [
    {
      "cell_type": "markdown",
      "metadata": {
        "id": "i7qY6LnzVfL6"
      },
      "source": [
        "# Lab 4-2: Load Data"
      ]
    },
    {
      "cell_type": "markdown",
      "metadata": {
        "id": "iUffg8EbVfMA"
      },
      "source": [
        "Author: Seungjae Lee (이승재)"
      ]
    },
    {
      "cell_type": "markdown",
      "metadata": {
        "id": "0lD0zwjRVfMB"
      },
      "source": [
        "<div class=\"alert alert-warning\">\n",
        "    We use elemental PyTorch to implement linear regression here. However, in most actual applications, abstractions such as <code>nn.Module</code> or <code>nn.Linear</code> are used.\n",
        "</div>"
      ]
    },
    {
      "cell_type": "markdown",
      "metadata": {
        "id": "RG4XJhGBVfMC"
      },
      "source": [
        "## Slicing 1D Array"
      ]
    },
    {
      "cell_type": "code",
      "execution_count": 1,
      "metadata": {
        "id": "P_tPxBFaVfMD"
      },
      "outputs": [],
      "source": [
        "nums = [0, 1, 2, 3, 4]"
      ]
    },
    {
      "cell_type": "code",
      "execution_count": 2,
      "metadata": {
        "id": "_-M5Bl_bVfMF",
        "outputId": "d0bbe405-8f02-4df1-bc81-72dfcf1281cc",
        "colab": {
          "base_uri": "https://localhost:8080/"
        }
      },
      "outputs": [
        {
          "output_type": "stream",
          "name": "stdout",
          "text": [
            "[0, 1, 2, 3, 4]\n"
          ]
        }
      ],
      "source": [
        "print(nums)"
      ]
    },
    {
      "cell_type": "markdown",
      "metadata": {
        "id": "Hs5wCmYtVfMH"
      },
      "source": [
        "index 2에서 4 전까지 가져와라. (앞 포함, 뒤 비포함)"
      ]
    },
    {
      "cell_type": "code",
      "execution_count": 3,
      "metadata": {
        "id": "_wWuAv6tVfMI",
        "outputId": "839482d9-789a-43fb-8f86-9af9b579fc9a",
        "colab": {
          "base_uri": "https://localhost:8080/"
        }
      },
      "outputs": [
        {
          "output_type": "stream",
          "name": "stdout",
          "text": [
            "[2, 3]\n"
          ]
        }
      ],
      "source": [
        "print(nums[2:4])"
      ]
    },
    {
      "cell_type": "markdown",
      "metadata": {
        "id": "IzK298_aVfMI"
      },
      "source": [
        "index 2부터 다 가져와라."
      ]
    },
    {
      "cell_type": "code",
      "execution_count": 4,
      "metadata": {
        "id": "4sfzraEDVfMJ",
        "outputId": "35f13645-5345-42a3-c71c-e45884f96944",
        "colab": {
          "base_uri": "https://localhost:8080/"
        }
      },
      "outputs": [
        {
          "output_type": "stream",
          "name": "stdout",
          "text": [
            "[2, 3, 4]\n"
          ]
        }
      ],
      "source": [
        "print(nums[2:])"
      ]
    },
    {
      "cell_type": "markdown",
      "metadata": {
        "id": "_9mWCLUoVfMK"
      },
      "source": [
        "index 2 전까지 가져와라. (역시 뒤는 비포함)"
      ]
    },
    {
      "cell_type": "code",
      "execution_count": 5,
      "metadata": {
        "id": "IF13a0aSVfMK",
        "outputId": "cc3ffbd1-29eb-4894-a14f-5adc5cdb8b01",
        "colab": {
          "base_uri": "https://localhost:8080/"
        }
      },
      "outputs": [
        {
          "output_type": "stream",
          "name": "stdout",
          "text": [
            "[0, 1]\n"
          ]
        }
      ],
      "source": [
        "print(nums[:2])"
      ]
    },
    {
      "cell_type": "markdown",
      "metadata": {
        "id": "jTSI1ySYVfML"
      },
      "source": [
        "전부 가져와라"
      ]
    },
    {
      "cell_type": "code",
      "execution_count": 6,
      "metadata": {
        "id": "QCKALX6XVfML",
        "outputId": "4629e0d4-1e1c-4729-9d3f-b1d5b3fdd000",
        "colab": {
          "base_uri": "https://localhost:8080/"
        }
      },
      "outputs": [
        {
          "output_type": "stream",
          "name": "stdout",
          "text": [
            "[0, 1, 2, 3, 4]\n"
          ]
        }
      ],
      "source": [
        "print(nums[:]) "
      ]
    },
    {
      "cell_type": "markdown",
      "metadata": {
        "id": "6lQGCMP9VfMM"
      },
      "source": [
        "마지막 index 전까지 가져와라. (뒤는 비포함!)"
      ]
    },
    {
      "cell_type": "code",
      "execution_count": 7,
      "metadata": {
        "id": "jzcxzIWAVfMM",
        "outputId": "53052a30-dcbd-441c-dc58-8ba743d62a26",
        "colab": {
          "base_uri": "https://localhost:8080/"
        }
      },
      "outputs": [
        {
          "output_type": "stream",
          "name": "stdout",
          "text": [
            "[0, 1, 2, 3]\n"
          ]
        }
      ],
      "source": [
        "print(nums[:-1])"
      ]
    },
    {
      "cell_type": "markdown",
      "metadata": {
        "id": "vDYDUtBrVfMM"
      },
      "source": [
        "assign 도 가능!"
      ]
    },
    {
      "cell_type": "code",
      "execution_count": 8,
      "metadata": {
        "id": "hyTEx5LLVfMM"
      },
      "outputs": [],
      "source": [
        "nums[2:4] = [8, 9]"
      ]
    },
    {
      "cell_type": "code",
      "execution_count": 9,
      "metadata": {
        "id": "vNj7zb-5VfMN",
        "outputId": "d8df1109-9315-40df-9c25-d851849b0bac",
        "colab": {
          "base_uri": "https://localhost:8080/"
        }
      },
      "outputs": [
        {
          "output_type": "stream",
          "name": "stdout",
          "text": [
            "[0, 1, 8, 9, 4]\n"
          ]
        }
      ],
      "source": [
        "print(nums)"
      ]
    },
    {
      "cell_type": "markdown",
      "metadata": {
        "id": "YWJpWa1RVfMN"
      },
      "source": [
        "## Slicing 2D Array"
      ]
    },
    {
      "cell_type": "code",
      "execution_count": 10,
      "metadata": {
        "id": "naC_-g7GVfMN"
      },
      "outputs": [],
      "source": [
        "import numpy as np"
      ]
    },
    {
      "cell_type": "code",
      "execution_count": 11,
      "metadata": {
        "id": "ZlH48dGTVfMO"
      },
      "outputs": [],
      "source": [
        "b = np.array([[1, 2, 3, 4], [5, 6, 7, 8], [9, 10, 11, 12]])"
      ]
    },
    {
      "cell_type": "code",
      "execution_count": 12,
      "metadata": {
        "id": "IQw3JHKlVfMO",
        "outputId": "296a0e4f-927d-420b-8f40-67c86fcdc6a1",
        "colab": {
          "base_uri": "https://localhost:8080/"
        }
      },
      "outputs": [
        {
          "output_type": "stream",
          "name": "stdout",
          "text": [
            "[[ 1  2  3  4]\n",
            " [ 5  6  7  8]\n",
            " [ 9 10 11 12]]\n"
          ]
        }
      ],
      "source": [
        "print(b)"
      ]
    },
    {
      "cell_type": "code",
      "execution_count": 13,
      "metadata": {
        "id": "SD0nJUflVfMO",
        "outputId": "df56f73c-e8f0-4455-f9c8-1f28f6e31d19",
        "colab": {
          "base_uri": "https://localhost:8080/"
        }
      },
      "outputs": [
        {
          "output_type": "execute_result",
          "data": {
            "text/plain": [
              "array([ 2,  6, 10])"
            ]
          },
          "metadata": {},
          "execution_count": 13
        }
      ],
      "source": [
        "b[:, 1]"
      ]
    },
    {
      "cell_type": "code",
      "execution_count": 14,
      "metadata": {
        "id": "OhiZWiLSVfMP",
        "outputId": "04f94ba6-d20c-4c73-dff4-ef3139073d49",
        "colab": {
          "base_uri": "https://localhost:8080/"
        }
      },
      "outputs": [
        {
          "output_type": "execute_result",
          "data": {
            "text/plain": [
              "array([ 9, 10, 11, 12])"
            ]
          },
          "metadata": {},
          "execution_count": 14
        }
      ],
      "source": [
        "b[-1]"
      ]
    },
    {
      "cell_type": "code",
      "execution_count": 15,
      "metadata": {
        "id": "j2-VeUz3VfMP",
        "outputId": "1b435829-2d0f-4efc-bd5a-7a7fa264bff8",
        "colab": {
          "base_uri": "https://localhost:8080/"
        }
      },
      "outputs": [
        {
          "output_type": "execute_result",
          "data": {
            "text/plain": [
              "array([ 9, 10, 11, 12])"
            ]
          },
          "metadata": {},
          "execution_count": 15
        }
      ],
      "source": [
        "b[-1, :]"
      ]
    },
    {
      "cell_type": "code",
      "execution_count": 16,
      "metadata": {
        "id": "7l9EKXQWVfMP",
        "outputId": "88310b76-de64-47f1-c27d-843bc0475f7c",
        "colab": {
          "base_uri": "https://localhost:8080/"
        }
      },
      "outputs": [
        {
          "output_type": "execute_result",
          "data": {
            "text/plain": [
              "array([ 9, 10, 11, 12])"
            ]
          },
          "metadata": {},
          "execution_count": 16
        }
      ],
      "source": [
        "b[-1, ...]"
      ]
    },
    {
      "cell_type": "code",
      "execution_count": 17,
      "metadata": {
        "id": "4Ps186kLVfMQ",
        "outputId": "cc7624c9-54c6-4e82-f383-48523dd5d92a",
        "colab": {
          "base_uri": "https://localhost:8080/"
        }
      },
      "outputs": [
        {
          "output_type": "execute_result",
          "data": {
            "text/plain": [
              "array([[1, 2, 3, 4],\n",
              "       [5, 6, 7, 8]])"
            ]
          },
          "metadata": {},
          "execution_count": 17
        }
      ],
      "source": [
        "b[0:2, :]"
      ]
    },
    {
      "cell_type": "code",
      "source": [
        "b= np.array([[1, 2, 3], [4, 5, 6], [7, 8, 9], [10, 11, 12]])"
      ],
      "metadata": {
        "id": "yjT1WmcQWkOo"
      },
      "execution_count": 18,
      "outputs": []
    },
    {
      "cell_type": "markdown",
      "source": [
        "Q1. 위 배열을 이용해 [1 4 7 10]을 출력해보세요.\n",
        "\n",
        "Q2. 위 배열을 이용해 11을 출력해보세요.\n",
        "\n",
        "Q3. 위 배열을 이용해 [[ 8  9]\n",
        " [11 12]]을 출력해보세요.\n",
        "\n",
        "Q4. 위 배열을 이용해 [[ 2  3]\n",
        " [ 5  6]\n",
        " [ 8  9]\n",
        " [11 12]]을 출력해보세요.\n",
        "\n",
        " Q5. 위 배열을 이용해 [10 11 12]을 출력해보세요."
      ],
      "metadata": {
        "id": "cWHpJJgjYxAz"
      }
    },
    {
      "cell_type": "code",
      "source": [
        "print(b[:, 0])\n",
        "print(b[3, 1])\n",
        "print(b[2:, 1:])\n",
        "print(b[:, 1:])\n",
        "print(b[3, :])"
      ],
      "metadata": {
        "id": "GO-AverNWkt_",
        "colab": {
          "base_uri": "https://localhost:8080/"
        },
        "outputId": "3d95228d-cf88-4f15-e59d-fe3210190bcc"
      },
      "execution_count": 20,
      "outputs": [
        {
          "output_type": "stream",
          "name": "stdout",
          "text": [
            "[ 1  4  7 10]\n",
            "11\n",
            "[[ 8  9]\n",
            " [11 12]]\n",
            "[[ 2  3]\n",
            " [ 5  6]\n",
            " [ 8  9]\n",
            " [11 12]]\n",
            "[10 11 12]\n"
          ]
        }
      ]
    },
    {
      "cell_type": "markdown",
      "metadata": {
        "id": "_n5YnbbDVfMQ"
      },
      "source": [
        "## Loading Data from `.csv` file"
      ]
    },
    {
      "cell_type": "markdown",
      "source": [
        "data-01-test-score.csv 파일 사용!"
      ],
      "metadata": {
        "id": "w0I1uGWgYNaT"
      }
    },
    {
      "cell_type": "code",
      "execution_count": 21,
      "metadata": {
        "id": "PMlTk-5UVfMR"
      },
      "outputs": [],
      "source": [
        "import numpy as np"
      ]
    },
    {
      "cell_type": "markdown",
      "source": [
        "Drive mount 하는 방법\n",
        "\n",
        "https://vision-ai.tistory.com/entry/%EC%BD%94%EB%9E%A9%EC%97%90%EC%84%9C-%EB%93%9C%EB%9D%BC%EC%9D%B4%EB%B8%8C%EC%9D%98-csv-%ED%8C%8C%EC%9D%BC-%EC%9D%BD%EA%B8%B0\n",
        "\n",
        "을 참고하세요!!"
      ],
      "metadata": {
        "id": "qu7mft0mcctJ"
      }
    },
    {
      "cell_type": "code",
      "source": [
        "from google.colab import drive"
      ],
      "metadata": {
        "id": "N7npiZWMage4"
      },
      "execution_count": 22,
      "outputs": []
    },
    {
      "cell_type": "code",
      "source": [
        "drive.mount('/content/drive')"
      ],
      "metadata": {
        "colab": {
          "base_uri": "https://localhost:8080/"
        },
        "id": "d-SM4bxiagiB",
        "outputId": "6c5c49cd-e4cb-45a5-9514-804c04e01531"
      },
      "execution_count": 23,
      "outputs": [
        {
          "output_type": "stream",
          "name": "stdout",
          "text": [
            "Mounted at /content/drive\n"
          ]
        }
      ]
    },
    {
      "cell_type": "code",
      "source": [
        "xy= np.loadtxt('/content/drive/MyDrive/Colab Notebooks/data-01-test-score.csv', delimiter=',', dtype=np.float32)"
      ],
      "metadata": {
        "id": "fKvu32T1agmM"
      },
      "execution_count": 24,
      "outputs": []
    },
    {
      "cell_type": "code",
      "source": [
        "print(xy)"
      ],
      "metadata": {
        "colab": {
          "base_uri": "https://localhost:8080/"
        },
        "id": "38SwRuIgsygh",
        "outputId": "0d705928-ed0c-47f9-e2f9-c741e050c311"
      },
      "execution_count": 27,
      "outputs": [
        {
          "output_type": "stream",
          "name": "stdout",
          "text": [
            "[[ 73.  80.  75. 152.]\n",
            " [ 93.  88.  93. 185.]\n",
            " [ 89.  91.  90. 180.]\n",
            " [ 96.  98. 100. 196.]\n",
            " [ 73.  66.  70. 142.]\n",
            " [ 53.  46.  55. 101.]\n",
            " [ 69.  74.  77. 149.]\n",
            " [ 47.  56.  60. 115.]\n",
            " [ 87.  79.  90. 175.]\n",
            " [ 79.  70.  88. 164.]\n",
            " [ 69.  70.  73. 141.]\n",
            " [ 70.  65.  74. 141.]\n",
            " [ 93.  95.  91. 184.]\n",
            " [ 79.  80.  73. 152.]\n",
            " [ 70.  73.  78. 148.]\n",
            " [ 93.  89.  96. 192.]\n",
            " [ 78.  75.  68. 147.]\n",
            " [ 81.  90.  93. 183.]\n",
            " [ 88.  92.  86. 177.]\n",
            " [ 78.  83.  77. 159.]\n",
            " [ 82.  86.  90. 177.]\n",
            " [ 86.  82.  89. 175.]\n",
            " [ 78.  83.  85. 175.]\n",
            " [ 76.  83.  71. 149.]\n",
            " [ 96.  93.  95. 192.]]\n"
          ]
        }
      ]
    },
    {
      "cell_type": "code",
      "execution_count": 25,
      "metadata": {
        "id": "kIpWRdHFVfMR"
      },
      "outputs": [],
      "source": [
        "x_data = xy[:, 0:-1]\n",
        "y_data = xy[:, [-1]]"
      ]
    },
    {
      "cell_type": "code",
      "execution_count": 26,
      "metadata": {
        "colab": {
          "base_uri": "https://localhost:8080/"
        },
        "id": "waMiRzfBVfMS",
        "outputId": "0c610313-e816-4265-f684-fd77c96c8153"
      },
      "outputs": [
        {
          "output_type": "stream",
          "name": "stdout",
          "text": [
            "(25, 3)\n",
            "25\n",
            "[[ 73.  80.  75.]\n",
            " [ 93.  88.  93.]\n",
            " [ 89.  91.  90.]\n",
            " [ 96.  98. 100.]\n",
            " [ 73.  66.  70.]]\n"
          ]
        }
      ],
      "source": [
        "print(x_data.shape) # x_data shape\n",
        "print(len(x_data))  # x_data 길이\n",
        "print(x_data[:5])   # 첫 다섯 개"
      ]
    },
    {
      "cell_type": "code",
      "execution_count": 28,
      "metadata": {
        "colab": {
          "base_uri": "https://localhost:8080/"
        },
        "id": "sTyEp37tVfMS",
        "outputId": "3f5ae017-4fcb-481a-abc7-1fb2b9f3e6e9"
      },
      "outputs": [
        {
          "output_type": "stream",
          "name": "stdout",
          "text": [
            "(25, 1)\n",
            "25\n",
            "[[152.]\n",
            " [185.]\n",
            " [180.]\n",
            " [196.]\n",
            " [142.]]\n"
          ]
        }
      ],
      "source": [
        "print(y_data.shape) # y_data shape\n",
        "print(len(y_data))  # y_data 길이\n",
        "print(y_data[:5])   # 첫 다섯 개"
      ]
    },
    {
      "cell_type": "markdown",
      "metadata": {
        "id": "Qe5d71jYVfMS"
      },
      "source": [
        "## Imports"
      ]
    },
    {
      "cell_type": "code",
      "execution_count": 37,
      "metadata": {
        "id": "nYZH6vmgVfMT"
      },
      "outputs": [],
      "source": [
        "import torch\n",
        "import torch.nn as nn\n",
        "import torch.nn.functional as F\n",
        "import torch.optim as optim"
      ]
    },
    {
      "cell_type": "code",
      "execution_count": 38,
      "metadata": {
        "id": "xDGeDG4HVfMT",
        "outputId": "05f36a83-a4ac-4c48-f4bf-e9b908c0844e",
        "colab": {
          "base_uri": "https://localhost:8080/"
        }
      },
      "outputs": [
        {
          "output_type": "execute_result",
          "data": {
            "text/plain": [
              "<torch._C.Generator at 0x7f6b41cedbd0>"
            ]
          },
          "metadata": {},
          "execution_count": 38
        }
      ],
      "source": [
        "# For reproducibility\n",
        "torch.manual_seed(1)"
      ]
    },
    {
      "cell_type": "markdown",
      "metadata": {
        "id": "bkyJpqSYVfMT"
      },
      "source": [
        "## Low-level Implementation"
      ]
    },
    {
      "cell_type": "code",
      "execution_count": 40,
      "metadata": {
        "id": "N2axnCOCVfMU",
        "outputId": "d440f69f-4e3b-4c9b-90e0-cb4410ea0fcd",
        "colab": {
          "base_uri": "https://localhost:8080/"
        }
      },
      "outputs": [
        {
          "output_type": "stream",
          "name": "stdout",
          "text": [
            "Epoch    0/20 Cost: 26811.960938\n",
            "Epoch    1/20 Cost: 10594.790039\n",
            "Epoch    2/20 Cost: 4598.845215\n",
            "Epoch    3/20 Cost: 2381.967041\n",
            "Epoch    4/20 Cost: 1562.316040\n",
            "Epoch    5/20 Cost: 1259.258545\n",
            "Epoch    6/20 Cost: 1147.199951\n",
            "Epoch    7/20 Cost: 1105.759033\n",
            "Epoch    8/20 Cost: 1090.427490\n",
            "Epoch    9/20 Cost: 1084.749023\n",
            "Epoch   10/20 Cost: 1082.639771\n",
            "Epoch   11/20 Cost: 1081.850220\n",
            "Epoch   12/20 Cost: 1081.548340\n",
            "Epoch   13/20 Cost: 1081.427002\n",
            "Epoch   14/20 Cost: 1081.372559\n",
            "Epoch   15/20 Cost: 1081.342407\n",
            "Epoch   16/20 Cost: 1081.321655\n",
            "Epoch   17/20 Cost: 1081.304077\n",
            "Epoch   18/20 Cost: 1081.288086\n",
            "Epoch   19/20 Cost: 1081.272217\n",
            "Epoch   20/20 Cost: 1081.256958\n"
          ]
        }
      ],
      "source": [
        "# 데이터\n",
        "x_train = torch.FloatTensor(x_data)\n",
        "y_train = torch.FloatTensor(y_data)\n",
        "# 모델 초기화\n",
        "W = torch.zeros(3, requires_grad=True)\n",
        "b = torch.zeros(1, requires_grad=True)\n",
        "# optimizer 설정\n",
        "optimizer = optim.SGD([W, b], lr=1e-5)\n",
        "\n",
        "nb_epochs = 20\n",
        "for epoch in range(nb_epochs + 1):\n",
        "    \n",
        "    # H(x) 계산\n",
        "    hypothesis = x_train.matmul(W) + b\n",
        "\n",
        "    # cost 계산\n",
        "    cost = torch.mean((hypothesis - y_train)**2)\n",
        "\n",
        "    # cost로 H(x) 개선\n",
        "    optimizer.zero_grad()\n",
        "    cost.backward()\n",
        "    optimizer.step()\n",
        "\n",
        "    # 100번마다 로그 출력\n",
        "    print('Epoch {:4d}/{} Cost: {:.6f}'.format(\n",
        "        epoch, nb_epochs, cost.item()\n",
        "    ))"
      ]
    },
    {
      "cell_type": "markdown",
      "metadata": {
        "id": "430OpqwbVfMU"
      },
      "source": [
        "## High-level Implementation with `nn.Module`"
      ]
    },
    {
      "cell_type": "code",
      "execution_count": 41,
      "metadata": {
        "id": "rX6YHFgEVfMV"
      },
      "outputs": [],
      "source": [
        "class MultivariateLinearRegressionModel(nn.Module):\n",
        "    def __init__(self):\n",
        "        super().__init__()\n",
        "        self.linear = nn.Linear(3, 1)\n",
        "\n",
        "    def forward(self, x):\n",
        "        return self.linear(x)"
      ]
    },
    {
      "cell_type": "code",
      "execution_count": 42,
      "metadata": {
        "id": "ne_-8xkSVfMW",
        "outputId": "f56115c9-6285-46d1-b943-5348ecbe8f2f",
        "colab": {
          "base_uri": "https://localhost:8080/"
        }
      },
      "outputs": [
        {
          "output_type": "stream",
          "name": "stdout",
          "text": [
            "Epoch    0/20 Cost: 28693.490234\n",
            "Epoch    1/20 Cost: 10618.750000\n",
            "Epoch    2/20 Cost: 3936.015381\n",
            "Epoch    3/20 Cost: 1465.219727\n",
            "Epoch    4/20 Cost: 551.693726\n",
            "Epoch    5/20 Cost: 213.934616\n",
            "Epoch    6/20 Cost: 89.052269\n",
            "Epoch    7/20 Cost: 42.876007\n",
            "Epoch    8/20 Cost: 25.799639\n",
            "Epoch    9/20 Cost: 19.482420\n",
            "Epoch   10/20 Cost: 17.143093\n",
            "Epoch   11/20 Cost: 16.274508\n",
            "Epoch   12/20 Cost: 15.949721\n",
            "Epoch   13/20 Cost: 15.825986\n",
            "Epoch   14/20 Cost: 15.776565\n",
            "Epoch   15/20 Cost: 15.754660\n",
            "Epoch   16/20 Cost: 15.742919\n",
            "Epoch   17/20 Cost: 15.734917\n",
            "Epoch   18/20 Cost: 15.728307\n",
            "Epoch   19/20 Cost: 15.722219\n",
            "Epoch   20/20 Cost: 15.716357\n"
          ]
        }
      ],
      "source": [
        "# 데이터\n",
        "x_train = torch.FloatTensor(x_data)\n",
        "y_train = torch.FloatTensor(y_data)\n",
        "# 모델 초기화\n",
        "model = MultivariateLinearRegressionModel()\n",
        "# optimizer 설정\n",
        "optimizer = optim.SGD(model.parameters(), lr=1e-5)  #SGD optimizer를 사용하고 learning rate는 1e-5로 적용하세요.\n",
        "\n",
        "nb_epochs = 20\n",
        "for epoch in range(nb_epochs+1):\n",
        "    \n",
        "    # H(x) 계산\n",
        "    prediction = model(x_train)\n",
        "    \n",
        "    # cost 계산\n",
        "    cost = F.mse_loss(prediction, y_train)\n",
        "    \n",
        "    # cost로 H(x) 개선\n",
        "    optimizer.zero_grad()\n",
        "    cost.backward()\n",
        "    optimizer.step()\n",
        "\n",
        "    # 20번마다 로그 출력\n",
        "    print('Epoch {:4d}/{} Cost: {:.6f}'.format(\n",
        "        epoch, nb_epochs, cost.item()\n",
        "    ))"
      ]
    },
    {
      "cell_type": "markdown",
      "metadata": {
        "id": "kREZynd5VfMX"
      },
      "source": [
        "## Dataset and DataLoader"
      ]
    },
    {
      "cell_type": "markdown",
      "metadata": {
        "id": "DW3WBqKuVfMX"
      },
      "source": [
        "<div class=\"alert alert-warning\">\n",
        "    pandas 기초지식이 필요할 것 같다\n",
        "</div>"
      ]
    },
    {
      "cell_type": "markdown",
      "metadata": {
        "id": "Vvux2m4LVfMY"
      },
      "source": [
        "너무 데이터가 크면 `x_data`, `y_data` 를 전부 다 가져오지 말고, 필요한 배치만 가져올 수 밖에 없다."
      ]
    },
    {
      "cell_type": "markdown",
      "metadata": {
        "id": "MijgD64zVfMY"
      },
      "source": [
        "[PyTorch Data Loading and Processing tutorial](https://pytorch.org/tutorials/beginner/data_loading_tutorial.html#iterating-through-the-dataset)"
      ]
    }
  ],
  "metadata": {
    "kernelspec": {
      "display_name": "Python 3",
      "language": "python",
      "name": "python3"
    },
    "language_info": {
      "codemirror_mode": {
        "name": "ipython",
        "version": 3
      },
      "file_extension": ".py",
      "mimetype": "text/x-python",
      "name": "python",
      "nbconvert_exporter": "python",
      "pygments_lexer": "ipython3",
      "version": "3.7.0"
    },
    "colab": {
      "name": "Lab04_2.ipynb",
      "provenance": [],
      "collapsed_sections": []
    }
  },
  "nbformat": 4,
  "nbformat_minor": 0
}